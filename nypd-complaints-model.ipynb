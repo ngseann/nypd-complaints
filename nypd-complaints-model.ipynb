{
 "cells": [
  {
   "cell_type": "markdown",
   "metadata": {},
   "source": [
    "# Summary of Findings\n",
    "\n",
    "\n",
    "### Introduction\n",
    "For the NYPD dataset, I wanted to build a model to try and predict the complainant ethnicity based off of features from the dataset. This dataset contains some interesting features that could be useful to predict complainant ethnicity such as the ethnicity of the police officer and the outcome of the case. This is a classification problem because I am trying to classify the complainant's by their ethnicity. The complainant ethnicity is composed of several categories: 'Black', 'White', 'Asian', 'Refused', 'Hispanic', 'Unknown', 'Other Race', 'American Indian'. Though 'refused' isn't its own category, I thought it'd be interesting keep and try to predict. The evaluation metric I used was the accuracy through the .score() method within the vairous classifiers I used. I thought that the accuracy would be summarize the wellness of my model.\n",
    "\n",
    "### Baseline Model\n",
    "The baseline model utilized the KNeighborsClassifier as its classifying model. But before running my data though the model, I id some light feature engineering, mainly to the many nominal features in the dataset. While doing some EDA, some of the columns were integers or floats even though the values within them were nomial. So firstly, I used a function transformer to change all the nominal values to strings. Then, to allow the nominal columns to be used in the classifier, I one hot encoded the nominal columns. I left the numeric data as is. To train and test my baseline model, I did a 70-30 split on the data and included every column except the target variable ('complainant_ethnicity') in my X and only the complainant_ethnicity in my y. I used the train_test_split function to break up my data. The model utilize 27 features as it can be seen below in the code. After training and predicting, I got a score back of 0.65. I feel that this score could be improved with using new engineered features and utilizing other classification models.\n",
    "\n",
    "### Final Model\n",
    "For the final model, I firstly added two new engineered features using and self-defined StdScalerByGroup transformer. This transformer normalizes all the values of the column given columns for each subgroup. I utilized this transformer on the mos age at the incident. This would be good for the dataset because the standardized age given the mos ethnicity could add more insight and help with the prediction. In addition, I binarized the age of mos at the incident where the cutoff was 35. Officers above a certain age range may have some bias and will give good info into our model for prediction. I gathered all of the preprocessing transformations in a ColumnTransformer. I then gathered a list of classification models including KNeighbors, DecisionTree, and RandomForest. I wanted to see which classifier gave me the best results so I iterated through the list of models, then for each model I fit and scored the model 10 times and averaged their results. As you can see in the code below, the RandomForestGenerator gave the best score and compared to the KNeighbors, it was significantly better while compared the DecisionTree, the two were somewhat close. After that I grid searched and cros validated 3 different parameters to find what the most ideal arguments would be and used a cv of 3. This told me that the best arguments were max_depth: None, min_samples_leaf: 1, n_estimators: 20. Inputting these arguments into our final model pipeline, and running and scoring, an accuracy of 0.85 was achieved which is definitely a big improvement from our baseline.\n",
    "\n",
    "### Fairness Evaluation\n",
    "For the fairness evaluation, I wanted to see whether or not my model predictd fairly in the cases that included white officers vs poc officers. To evaluate my claim I used sensitivity/recall as my parity measure as there seemed to be a roughly equal proportion of white to poc officers and determining how many of the outcomes that were atually positive were true positive is a good measure of fairness of the model. And for my test statistic, I used the absolute difference of the sensitivities because it is a good measure to see how different the two values are. If they are really different from each other, then we will get a large absolute difference and vice versa.The question of \"Does the model predict fairly for POC vs Non-POC officers?\" leads to the null hypothesis that the model does perform fairly for each group and the sensitivites are the same. On the other hand, the alternative hypothesis is that the senstivies for the two groups are different. To obtain my observed test statistic, I split the dataset into two groups: white and poc officers. Then for each group I made a training and test set, trained individual models, predicted, and obtained recall scores. The resulting absolute difference was 0.0108. But we don't know if this is a lareg difference or not so we need to run a permutation test. After running the permutation test and plotting the p-value on the distribution of simulated absolute differences, using our significance level of 0.05, we can see that the probability that we saw our observed statistic under the null hypothesis was not that low. This tell us that we fail to reject the null hypothesis."
   ]
  },
  {
   "cell_type": "markdown",
   "metadata": {},
   "source": [
    "# Code"
   ]
  },
  {
   "cell_type": "code",
   "execution_count": 1,
   "metadata": {},
   "outputs": [],
   "source": [
    "import matplotlib.pyplot as plt\n",
    "import numpy as np\n",
    "import os\n",
    "import pandas as pd\n",
    "import seaborn as sns\n",
    "%matplotlib inline\n",
    "%config InlineBackend.figure_format = 'retina'  # Higher resolution figures"
   ]
  },
  {
   "cell_type": "code",
   "execution_count": 572,
   "metadata": {},
   "outputs": [],
   "source": [
    "from sklearn.linear_model import LinearRegression\n",
    "from sklearn.preprocessing import FunctionTransformer\n",
    "from sklearn.preprocessing import OneHotEncoder\n",
    "from sklearn.pipeline import Pipeline\n",
    "from sklearn.compose import ColumnTransformer\n",
    "from sklearn.preprocessing import StandardScaler\n",
    "from sklearn.preprocessing import LabelBinarizer\n",
    "from sklearn.preprocessing import Binarizer\n",
    "\n",
    "from sklearn.model_selection import train_test_split\n",
    "from sklearn.tree import DecisionTreeClassifier\n",
    "from sklearn.neighbors import KNeighborsClassifier\n",
    "from sklearn.ensemble import RandomForestClassifier\n",
    "from sklearn.model_selection import GridSearchCV\n",
    "from sklearn import metrics"
   ]
  },
  {
   "cell_type": "code",
   "execution_count": 481,
   "metadata": {
    "scrolled": false
   },
   "outputs": [
    {
     "data": {
      "text/html": [
       "<div>\n",
       "<style scoped>\n",
       "    .dataframe tbody tr th:only-of-type {\n",
       "        vertical-align: middle;\n",
       "    }\n",
       "\n",
       "    .dataframe tbody tr th {\n",
       "        vertical-align: top;\n",
       "    }\n",
       "\n",
       "    .dataframe thead th {\n",
       "        text-align: right;\n",
       "    }\n",
       "</style>\n",
       "<table border=\"1\" class=\"dataframe\">\n",
       "  <thead>\n",
       "    <tr style=\"text-align: right;\">\n",
       "      <th></th>\n",
       "      <th>unique_mos_id</th>\n",
       "      <th>first_name</th>\n",
       "      <th>last_name</th>\n",
       "      <th>command_now</th>\n",
       "      <th>shield_no</th>\n",
       "      <th>complaint_id</th>\n",
       "      <th>month_received</th>\n",
       "      <th>year_received</th>\n",
       "      <th>month_closed</th>\n",
       "      <th>year_closed</th>\n",
       "      <th>...</th>\n",
       "      <th>mos_age_incident</th>\n",
       "      <th>complainant_ethnicity</th>\n",
       "      <th>complainant_gender</th>\n",
       "      <th>complainant_age_incident</th>\n",
       "      <th>fado_type</th>\n",
       "      <th>allegation</th>\n",
       "      <th>precinct</th>\n",
       "      <th>contact_reason</th>\n",
       "      <th>outcome_description</th>\n",
       "      <th>board_disposition</th>\n",
       "    </tr>\n",
       "  </thead>\n",
       "  <tbody>\n",
       "    <tr>\n",
       "      <th>0</th>\n",
       "      <td>10004</td>\n",
       "      <td>Jonathan</td>\n",
       "      <td>Ruiz</td>\n",
       "      <td>078 PCT</td>\n",
       "      <td>8409</td>\n",
       "      <td>42835</td>\n",
       "      <td>7</td>\n",
       "      <td>2019</td>\n",
       "      <td>5</td>\n",
       "      <td>2020</td>\n",
       "      <td>...</td>\n",
       "      <td>32</td>\n",
       "      <td>Black</td>\n",
       "      <td>Female</td>\n",
       "      <td>38.0</td>\n",
       "      <td>Abuse of Authority</td>\n",
       "      <td>Failure to provide RTKA card</td>\n",
       "      <td>78.0</td>\n",
       "      <td>Report-domestic dispute</td>\n",
       "      <td>No arrest made or summons issued</td>\n",
       "      <td>Substantiated (Command Lvl Instructions)</td>\n",
       "    </tr>\n",
       "    <tr>\n",
       "      <th>1</th>\n",
       "      <td>10007</td>\n",
       "      <td>John</td>\n",
       "      <td>Sears</td>\n",
       "      <td>078 PCT</td>\n",
       "      <td>5952</td>\n",
       "      <td>24601</td>\n",
       "      <td>11</td>\n",
       "      <td>2011</td>\n",
       "      <td>8</td>\n",
       "      <td>2012</td>\n",
       "      <td>...</td>\n",
       "      <td>24</td>\n",
       "      <td>Black</td>\n",
       "      <td>Male</td>\n",
       "      <td>26.0</td>\n",
       "      <td>Discourtesy</td>\n",
       "      <td>Action</td>\n",
       "      <td>67.0</td>\n",
       "      <td>Moving violation</td>\n",
       "      <td>Moving violation summons issued</td>\n",
       "      <td>Substantiated (Charges)</td>\n",
       "    </tr>\n",
       "    <tr>\n",
       "      <th>2</th>\n",
       "      <td>10007</td>\n",
       "      <td>John</td>\n",
       "      <td>Sears</td>\n",
       "      <td>078 PCT</td>\n",
       "      <td>5952</td>\n",
       "      <td>24601</td>\n",
       "      <td>11</td>\n",
       "      <td>2011</td>\n",
       "      <td>8</td>\n",
       "      <td>2012</td>\n",
       "      <td>...</td>\n",
       "      <td>24</td>\n",
       "      <td>Black</td>\n",
       "      <td>Male</td>\n",
       "      <td>26.0</td>\n",
       "      <td>Offensive Language</td>\n",
       "      <td>Race</td>\n",
       "      <td>67.0</td>\n",
       "      <td>Moving violation</td>\n",
       "      <td>Moving violation summons issued</td>\n",
       "      <td>Substantiated (Charges)</td>\n",
       "    </tr>\n",
       "    <tr>\n",
       "      <th>3</th>\n",
       "      <td>10007</td>\n",
       "      <td>John</td>\n",
       "      <td>Sears</td>\n",
       "      <td>078 PCT</td>\n",
       "      <td>5952</td>\n",
       "      <td>26146</td>\n",
       "      <td>7</td>\n",
       "      <td>2012</td>\n",
       "      <td>9</td>\n",
       "      <td>2013</td>\n",
       "      <td>...</td>\n",
       "      <td>25</td>\n",
       "      <td>Black</td>\n",
       "      <td>Male</td>\n",
       "      <td>45.0</td>\n",
       "      <td>Abuse of Authority</td>\n",
       "      <td>Question</td>\n",
       "      <td>67.0</td>\n",
       "      <td>PD suspected C/V of violation/crime - street</td>\n",
       "      <td>No arrest made or summons issued</td>\n",
       "      <td>Substantiated (Charges)</td>\n",
       "    </tr>\n",
       "    <tr>\n",
       "      <th>4</th>\n",
       "      <td>10009</td>\n",
       "      <td>Noemi</td>\n",
       "      <td>Sierra</td>\n",
       "      <td>078 PCT</td>\n",
       "      <td>24058</td>\n",
       "      <td>40253</td>\n",
       "      <td>8</td>\n",
       "      <td>2018</td>\n",
       "      <td>2</td>\n",
       "      <td>2019</td>\n",
       "      <td>...</td>\n",
       "      <td>39</td>\n",
       "      <td>NaN</td>\n",
       "      <td>NaN</td>\n",
       "      <td>16.0</td>\n",
       "      <td>Force</td>\n",
       "      <td>Physical force</td>\n",
       "      <td>67.0</td>\n",
       "      <td>Report-dispute</td>\n",
       "      <td>Arrest - other violation/crime</td>\n",
       "      <td>Substantiated (Command Discipline A)</td>\n",
       "    </tr>\n",
       "  </tbody>\n",
       "</table>\n",
       "<p>5 rows × 27 columns</p>\n",
       "</div>"
      ],
      "text/plain": [
       "   unique_mos_id first_name last_name command_now  shield_no  complaint_id  \\\n",
       "0          10004   Jonathan      Ruiz     078 PCT       8409         42835   \n",
       "1          10007       John     Sears     078 PCT       5952         24601   \n",
       "2          10007       John     Sears     078 PCT       5952         24601   \n",
       "3          10007       John     Sears     078 PCT       5952         26146   \n",
       "4          10009      Noemi    Sierra     078 PCT      24058         40253   \n",
       "\n",
       "   month_received  year_received  month_closed  year_closed  ...  \\\n",
       "0               7           2019             5         2020  ...   \n",
       "1              11           2011             8         2012  ...   \n",
       "2              11           2011             8         2012  ...   \n",
       "3               7           2012             9         2013  ...   \n",
       "4               8           2018             2         2019  ...   \n",
       "\n",
       "  mos_age_incident complainant_ethnicity complainant_gender  \\\n",
       "0               32                 Black             Female   \n",
       "1               24                 Black               Male   \n",
       "2               24                 Black               Male   \n",
       "3               25                 Black               Male   \n",
       "4               39                   NaN                NaN   \n",
       "\n",
       "  complainant_age_incident           fado_type                    allegation  \\\n",
       "0                     38.0  Abuse of Authority  Failure to provide RTKA card   \n",
       "1                     26.0         Discourtesy                        Action   \n",
       "2                     26.0  Offensive Language                          Race   \n",
       "3                     45.0  Abuse of Authority                      Question   \n",
       "4                     16.0               Force                Physical force   \n",
       "\n",
       "  precinct                                contact_reason  \\\n",
       "0     78.0                       Report-domestic dispute   \n",
       "1     67.0                              Moving violation   \n",
       "2     67.0                              Moving violation   \n",
       "3     67.0  PD suspected C/V of violation/crime - street   \n",
       "4     67.0                                Report-dispute   \n",
       "\n",
       "                outcome_description                         board_disposition  \n",
       "0  No arrest made or summons issued  Substantiated (Command Lvl Instructions)  \n",
       "1   Moving violation summons issued                   Substantiated (Charges)  \n",
       "2   Moving violation summons issued                   Substantiated (Charges)  \n",
       "3  No arrest made or summons issued                   Substantiated (Charges)  \n",
       "4    Arrest - other violation/crime      Substantiated (Command Discipline A)  \n",
       "\n",
       "[5 rows x 27 columns]"
      ]
     },
     "execution_count": 481,
     "metadata": {},
     "output_type": "execute_result"
    }
   ],
   "source": [
    "# load in data\n",
    "complaints = pd.read_csv('CCRB-Complaint-Data_202007271729/allegations_202007271729.csv')\n",
    "complaints.head()"
   ]
  },
  {
   "cell_type": "markdown",
   "metadata": {},
   "source": [
    "### Baseline Model"
   ]
  },
  {
   "cell_type": "code",
   "execution_count": 614,
   "metadata": {},
   "outputs": [],
   "source": [
    "str_cast_cols = ['unique_mos_id', 'shield_no', 'complaint_id', 'precinct', \\\n",
    "             'month_received', 'year_received', 'month_closed', 'year_closed']\n",
    "str_cast_pipe = Pipeline([('str_cast', FunctionTransformer(lambda x: x.astype('str')))])\n",
    "\n",
    "one_hot_cols = ['unique_mos_id', 'month_received', 'year_received', 'month_closed', 'year_closed', \\\n",
    "               'command_at_incident', 'rank_abbrev_now', 'rank_abbrev_incident', 'mos_gender', \\\n",
    "                'mos_ethnicity', 'board_disposition', 'fado_type', 'precinct']\n",
    "one_hot_pipe = Pipeline([('one_hot', OneHotEncoder(handle_unknown = 'ignore'))])"
   ]
  },
  {
   "cell_type": "code",
   "execution_count": 615,
   "metadata": {},
   "outputs": [],
   "source": [
    "baseline_preprocess = ColumnTransformer([('str_cast_trans', str_cast_pipe, str_cast_cols), \n",
    "                                         ('one_hot_trans', one_hot_pipe, one_hot_cols)])"
   ]
  },
  {
   "cell_type": "code",
   "execution_count": 617,
   "metadata": {},
   "outputs": [],
   "source": [
    "# build full model here\n",
    "baseline_pipe = Pipeline([('preprocess', baseline_preprocess), \n",
    "                          ('KNeighbors', KNeighborsClassifier())])"
   ]
  },
  {
   "cell_type": "code",
   "execution_count": 618,
   "metadata": {},
   "outputs": [],
   "source": [
    "X = complaints.drop('complainant_ethnicity',axis = 1)\n",
    "y = complaints[['complainant_ethnicity']]"
   ]
  },
  {
   "cell_type": "code",
   "execution_count": 619,
   "metadata": {},
   "outputs": [],
   "source": [
    "X_train, X_test, y_train, y_test = train_test_split(X, y, test_size=0.3)"
   ]
  },
  {
   "cell_type": "code",
   "execution_count": 623,
   "metadata": {},
   "outputs": [
    {
     "data": {
      "text/plain": [
       "27"
      ]
     },
     "execution_count": 623,
     "metadata": {},
     "output_type": "execute_result"
    }
   ],
   "source": [
    "# number of features\n",
    "len(X_train.columns)"
   ]
  },
  {
   "cell_type": "code",
   "execution_count": 620,
   "metadata": {
    "scrolled": true
   },
   "outputs": [
    {
     "data": {
      "text/plain": [
       "0.6501665873393622"
      ]
     },
     "execution_count": 620,
     "metadata": {},
     "output_type": "execute_result"
    }
   ],
   "source": [
    "# evaluation of baseline\n",
    "baseline_pipe.fit(X_train, y_train.values.ravel())\n",
    "\n",
    "baseline_pipe.score(X_test, y_test)"
   ]
  },
  {
   "cell_type": "markdown",
   "metadata": {},
   "source": [
    "### Final Model"
   ]
  },
  {
   "cell_type": "code",
   "execution_count": 304,
   "metadata": {},
   "outputs": [],
   "source": [
    "from sklearn.base import BaseEstimator, TransformerMixin\n",
    "\n",
    "\n",
    "class StdScalerByGroup(BaseEstimator, TransformerMixin):\n",
    "    \n",
    "    def __init__(self):\n",
    "        pass\n",
    "\n",
    "    def fit(self, X, y=None):\n",
    "        \"\"\"\n",
    "        :Example:\n",
    "        >>> cols = {'g': ['A', 'A', 'B', 'B'], 'c1': [1, 2, 2, 2], 'c2': [3, 1, 2, 0]}\n",
    "        >>> X = pd.DataFrame(cols)\n",
    "        >>> std = StdScalerByGroup().fit(X)\n",
    "        >>> std.grps_ is not None\n",
    "        True\n",
    "        \"\"\"\n",
    "        # X may not be a pandas dataframe (e.g. a np.array)\n",
    "        df = pd.DataFrame(X)\n",
    "        \n",
    "        # A dictionary of means/standard-deviations for each column, for each group.\n",
    "        mean_std = df.groupby(df.columns[0])[df.columns[:]].agg([np.mean, np.std])\n",
    "\n",
    "        self.grps_ = mean_std.to_dict()\n",
    "\n",
    "        return self\n",
    "\n",
    "    def transform(self, X, y=None):\n",
    "        \"\"\"\n",
    "        :Example:\n",
    "        >>> cols = {'g': ['A', 'A', 'B', 'B'], 'c1': [1, 2, 3, 4], 'c2': [1, 2, 3, 4]}\n",
    "        >>> X = pd.DataFrame(cols)\n",
    "        >>> std = StdScalerByGroup().fit(X)\n",
    "        >>> out = std.transform(X)\n",
    "        >>> out.shape == (4, 2)\n",
    "        True\n",
    "        >>> np.isclose(out.abs(), 0.707107, atol=0.001).all().all()\n",
    "        True\n",
    "        \"\"\"\n",
    "\n",
    "        try:\n",
    "            getattr(self, \"grps_\")\n",
    "        except AttributeError:\n",
    "            raise RuntimeError(\"You must fit the transformer before tranforming the data!\")\n",
    "        \n",
    "\n",
    "        df = pd.DataFrame(X)\n",
    "\n",
    "        transformed = df.groupby(df.columns[0])\\\n",
    "            .apply(lambda group:\n",
    "            group.transform(lambda col: col if col.name == df.columns[0]\n",
    "            else ((col - self.grps_[(col.name, 'mean')][group.name]) / self.grps_[(col.name, 'std')][group.name])))\n",
    "\n",
    "        \n",
    "        return transformed.set_index(transformed.columns[0])"
   ]
  },
  {
   "cell_type": "code",
   "execution_count": 492,
   "metadata": {},
   "outputs": [],
   "source": [
    "# new preprocessing\n",
    "str_cast_cols = ['unique_mos_id', 'shield_no', 'complaint_id', 'precinct', \\\n",
    "             'month_received', 'year_received', 'month_closed', 'year_closed']\n",
    "str_cast_pipe = Pipeline([('str_cast', FunctionTransformer(lambda x: x.astype('str')))])\n",
    "\n",
    "one_hot_cols = ['unique_mos_id', 'month_received', 'year_received', 'month_closed', 'year_closed', \\\n",
    "               'rank_abbrev_now', 'rank_abbrev_incident', 'mos_gender', \\\n",
    "                'mos_ethnicity', 'board_disposition', 'precinct', 'complainant_gender']\n",
    "one_hot_pipe = Pipeline([('one_hot', OneHotEncoder(handle_unknown = 'ignore'))])\n",
    "\n",
    "std_group_cols = ['mos_ethnicity', 'mos_age_incident']\n",
    "std_group_pipe = Pipeline([('std_group_scale', StdScalerByGroup())])\n",
    "\n",
    "binarizer_cols = ['mos_age_incident']\n",
    "binarizer_pipe = Pipeline([('over_35', Binarizer(threshold = 35))])"
   ]
  },
  {
   "cell_type": "code",
   "execution_count": 517,
   "metadata": {},
   "outputs": [],
   "source": [
    "final_preprocess = ColumnTransformer([('str_cast_trans', str_cast_pipe, str_cast_cols), \n",
    "                                      ('one_hot_trans', one_hot_pipe, one_hot_cols), \n",
    "                                     ('std_group_trans', std_group_pipe, std_group_cols),\n",
    "                                     ('binarize_trans', binarizer_pipe, binarizer_cols)\n",
    "                                     ])"
   ]
  },
  {
   "cell_type": "code",
   "execution_count": 513,
   "metadata": {},
   "outputs": [],
   "source": [
    "# find the best model\n",
    "\n",
    "classifiers = [KNeighborsClassifier(), DecisionTreeClassifier(), RandomForestClassifier()]\n",
    "\n",
    "avg_scores = []\n",
    "\n",
    "for classifier in classifiers:\n",
    "    individ_scores = []\n",
    "    for i in range(10):\n",
    "        final_pipe = Pipeline([('preprocess', final_preprocess), ('Classifier', classifier)])\n",
    "        \n",
    "        X = complaints.drop('complainant_ethnicity',axis = 1)\n",
    "        y = complaints[['complainant_ethnicity']]\n",
    "\n",
    "        X_train, X_test, y_train, y_test = train_test_split(X, y, test_size=0.3)\n",
    "        \n",
    "        \n",
    "        final_pipe.fit(X_train, y_train.values.ravel())\n",
    "        individ_scores.append(final_pipe.score(X_test, y_test))\n",
    "    \n",
    "    avg_scores.append(np.mean(individ_scores))\n",
    "            "
   ]
  },
  {
   "cell_type": "code",
   "execution_count": 514,
   "metadata": {},
   "outputs": [
    {
     "data": {
      "text/plain": [
       "[0.6510352213231794, 0.8358281770585435, 0.8642551166111376]"
      ]
     },
     "execution_count": 514,
     "metadata": {},
     "output_type": "execute_result"
    }
   ],
   "source": [
    "avg_scores"
   ]
  },
  {
   "cell_type": "code",
   "execution_count": 526,
   "metadata": {},
   "outputs": [],
   "source": [
    "final_pipe = Pipeline([('preprocess', final_preprocess), ('random_forest', RandomForestClassifier())])"
   ]
  },
  {
   "cell_type": "code",
   "execution_count": 530,
   "metadata": {},
   "outputs": [],
   "source": [
    "X = complaints.drop('complainant_ethnicity',axis = 1)\n",
    "y = complaints[['complainant_ethnicity']]\n",
    "\n",
    "X_train, X_test, y_train, y_test = train_test_split(X, y, test_size=0.3)"
   ]
  },
  {
   "cell_type": "code",
   "execution_count": 560,
   "metadata": {},
   "outputs": [
    {
     "data": {
      "text/plain": [
       "{'random_forest__max_depth': None,\n",
       " 'random_forest__min_samples_leaf': 1,\n",
       " 'random_forest__n_estimators': 20}"
      ]
     },
     "execution_count": 560,
     "metadata": {},
     "output_type": "execute_result"
    }
   ],
   "source": [
    "# find the best parameters using Grid Search Cross Validation\n",
    "parameters = \n",
    "    'random_forest__n_estimators': [5,10,15,20],\n",
    "    'random_forest__max_depth': [2,5,10,15,None], \n",
    "    'random_forest__min_samples_leaf':[1,2,5,10,15,20]\n",
    "}\n",
    "\n",
    "param_tree = GridSearchCV(final_pipe, parameters, cv = 3)\n",
    "param_tree.fit(X_train, y_train.values.ravel())\n",
    "param_tree.best_params_"
   ]
  },
  {
   "cell_type": "code",
   "execution_count": 561,
   "metadata": {},
   "outputs": [],
   "source": [
    "final_pipe = Pipeline([('preprocess', final_preprocess),\n",
    "                       ('random_forest', \n",
    "                        RandomForestClassifier(max_depth = None, n_estimators = 20, min_samples_leaf = 1))])"
   ]
  },
  {
   "cell_type": "code",
   "execution_count": 562,
   "metadata": {
    "scrolled": true
   },
   "outputs": [
    {
     "data": {
      "text/plain": [
       "0.853998096144693"
      ]
     },
     "execution_count": 562,
     "metadata": {},
     "output_type": "execute_result"
    }
   ],
   "source": [
    "final_pipe.fit(X_train, y_train.values.ravel())\n",
    "final_pipe.score(X_test, y_test)"
   ]
  },
  {
   "cell_type": "markdown",
   "metadata": {},
   "source": [
    "### Fairness Evaluation"
   ]
  },
  {
   "cell_type": "markdown",
   "metadata": {},
   "source": [
    "#### Question"
   ]
  },
  {
   "cell_type": "markdown",
   "metadata": {},
   "source": [
    "Does my model predict fairly for POC vs non-POC officer?"
   ]
  },
  {
   "cell_type": "markdown",
   "metadata": {},
   "source": [
    "#### Parity Measure"
   ]
  },
  {
   "cell_type": "markdown",
   "metadata": {},
   "source": [
    "For the parity measure, I used senstivity because as we can see from the cell below, there is roughly equal proportions of white and poc officer and we want to measure how well it correctly identified the results that were actually positive."
   ]
  },
  {
   "cell_type": "code",
   "execution_count": 563,
   "metadata": {},
   "outputs": [
    {
     "data": {
      "text/plain": [
       "0.5288804797943738"
      ]
     },
     "execution_count": 563,
     "metadata": {},
     "output_type": "execute_result"
    }
   ],
   "source": [
    "np.mean(complaints['mos_ethnicity'] == 'White')"
   ]
  },
  {
   "cell_type": "markdown",
   "metadata": {},
   "source": [
    "#### Null Hypothesis"
   ]
  },
  {
   "cell_type": "markdown",
   "metadata": {},
   "source": [
    "The model is fair, the sensitvities for white officers and non-white officers should be roughly the same."
   ]
  },
  {
   "cell_type": "markdown",
   "metadata": {},
   "source": [
    "#### Alternative Hypothesis"
   ]
  },
  {
   "cell_type": "markdown",
   "metadata": {},
   "source": [
    "The model is not fair, the sensitvities for white officers and non-white officers are not the same."
   ]
  },
  {
   "cell_type": "markdown",
   "metadata": {},
   "source": [
    "#### Test Statistic"
   ]
  },
  {
   "cell_type": "markdown",
   "metadata": {},
   "source": [
    "Absolute difference in sensitivities"
   ]
  },
  {
   "cell_type": "code",
   "execution_count": 568,
   "metadata": {},
   "outputs": [],
   "source": [
    "# Add a col indicating if the officer is white or a poc\n",
    "complaints['mos_is_white'] = (complaints['mos_ethnicity'] == 'White')"
   ]
  },
  {
   "cell_type": "code",
   "execution_count": 597,
   "metadata": {},
   "outputs": [
    {
     "data": {
      "text/plain": [
       "0.010848075808705726"
      ]
     },
     "execution_count": 597,
     "metadata": {},
     "output_type": "execute_result"
    }
   ],
   "source": [
    "# Observed Test Stat\n",
    "white_mos_complaints = complaints.loc[complaints['mos_is_white'] == True]\n",
    "poc_mos_complaints = complaints.loc[complaints['mos_is_white'] == False]\n",
    "\n",
    "X_white_mos = white_mos_complaints.drop('complainant_ethnicity',axis = 1)\n",
    "y_white_mos = white_mos_complaints[['complainant_ethnicity']]\n",
    "\n",
    "X_white_mos_train, X_white_mos_test, y_white_mos_train, y_white_mos_test = train_test_split(X_white_mos, y_white_mos, test_size=0.3)\n",
    "\n",
    "X_poc_mos = poc_mos_complaints.drop('complainant_ethnicity',axis = 1)\n",
    "y_poc_mos = poc_mos_complaints[['complainant_ethnicity']]\n",
    "\n",
    "X_poc_mos_train, X_poc_mos_test, y_poc_mos_train, y_poc_mos_test = train_test_split(X_poc_mos, y_poc_mos, test_size=0.3)\n",
    "\n",
    "white_mos_pipe = final_pipe.fit(X_white_mos_train, y_white_mos_train.values.ravel())\n",
    "white_mos_preds = white_mos_pipe.predict(X_white_mos_test)\n",
    "\n",
    "poc_mos_pipe = final_pipe.fit(X_poc_mos_train, y_poc_mos_train.values.ravel())\n",
    "poc_mos_preds = poc_mos_pipe.predict(X_poc_mos_test)\n",
    "\n",
    "white_mos_recall = metrics.recall_score(y_white_mos_test, white_mos_preds, average = 'micro')\n",
    "poc_mos_recall = metrics.recall_score(y_poc_mos_test, poc_mos_preds, average = 'micro')\n",
    "\n",
    "obsv_diff = abs(white_mos_recall - poc_mos_recall)\n",
    "obsv_diff"
   ]
  },
  {
   "cell_type": "code",
   "execution_count": 601,
   "metadata": {},
   "outputs": [],
   "source": [
    "# permutation test\n",
    "n_repetitions = 100\n",
    "\n",
    "differences = []\n",
    "for _ in range(n_repetitions):\n",
    "    \n",
    "    # shuffle the mos_ethnicity\n",
    "    shuffled_ethnicity = (\n",
    "        complaints['mos_ethnicity']\n",
    "        .sample(replace=False, frac=1)\n",
    "        .reset_index(drop=True)\n",
    "    )\n",
    "    \n",
    "    # put them in a table\n",
    "    shuffled = (\n",
    "        complaints\n",
    "        .assign(**{'shuffled_mos_ethnicity': shuffled_ethnicity})\n",
    "    )\n",
    "    \n",
    "    shuffled.dropna()\n",
    "    shuffled['mos_is_white'] = (shuffled['shuffled_mos_ethnicity'] == 'White')\n",
    "    \n",
    "    white_mos_complaints = shuffled.loc[shuffled['mos_is_white'] == True]\n",
    "    poc_mos_complaints = shuffled.loc[shuffled['mos_is_white'] == False]\n",
    "\n",
    "    X_white_mos = white_mos_complaints.drop('complainant_ethnicity',axis = 1)\n",
    "    y_white_mos = white_mos_complaints[['complainant_ethnicity']]\n",
    "\n",
    "    X_white_mos_train, X_white_mos_test, y_white_mos_train, y_white_mos_test = train_test_split(X_white_mos, y_white_mos, test_size=0.3)\n",
    "\n",
    "    X_poc_mos = poc_mos_complaints.drop('complainant_ethnicity',axis = 1)\n",
    "    y_poc_mos = poc_mos_complaints[['complainant_ethnicity']]\n",
    "\n",
    "    X_poc_mos_train, X_poc_mos_test, y_poc_mos_train, y_poc_mos_test = train_test_split(X_poc_mos, y_poc_mos, test_size=0.3)\n",
    "\n",
    "    white_mos_pipe = final_pipe.fit(X_white_mos_train, y_white_mos_train.values.ravel())\n",
    "    white_mos_preds = white_mos_pipe.predict(X_white_mos_test)\n",
    "\n",
    "    poc_mos_pipe = final_pipe.fit(X_poc_mos_train, y_poc_mos_train.values.ravel())\n",
    "    poc_mos_preds = poc_mos_pipe.predict(X_poc_mos_test)\n",
    "\n",
    "    white_mos_recall = metrics.recall_score(y_white_mos_test, white_mos_preds, average = 'micro')\n",
    "    poc_mos_recall = metrics.recall_score(y_poc_mos_test, poc_mos_preds, average = 'micro')\n",
    "\n",
    "    diff = abs(white_mos_recall - poc_mos_recall)\n",
    "    differences.append(diff)"
   ]
  },
  {
   "cell_type": "code",
   "execution_count": 610,
   "metadata": {},
   "outputs": [
    {
     "data": {
      "text/plain": [
       "0.45"
      ]
     },
     "execution_count": 610,
     "metadata": {},
     "output_type": "execute_result"
    }
   ],
   "source": [
    "p_val = np.mean(differences >= obsv_diff)\n",
    "p_val"
   ]
  },
  {
   "cell_type": "code",
   "execution_count": 611,
   "metadata": {},
   "outputs": [
    {
     "data": {
      "image/png": "[encoded data removed]",
      "text/plain": [
       "<Figure size 432x288 with 1 Axes>"
      ]
     },
     "metadata": {
      "image/png": {
       "height": 277,
       "width": 382
      },
      "needs_background": "light"
     },
     "output_type": "display_data"
    }
   ],
   "source": [
    "pd.Series(differences).plot(kind='hist', density=True, alpha=0.8, title='Distribution of sumilated differences\\np-value: %f' % p_val)\n",
    "plt.scatter(obsv_diff, 0, color='red', s=40);"
   ]
  },
  {
   "cell_type": "markdown",
   "metadata": {},
   "source": [
    "As we can see from the distribution and our p-value we fail to reject the null hypothesis."
   ]
  }
 ],
 "metadata": {
  "kernelspec": {
   "display_name": "Python 3",
   "language": "python",
   "name": "python3"
  },
  "language_info": {
   "codemirror_mode": {
    "name": "ipython",
    "version": 3
   },
   "file_extension": ".py",
   "mimetype": "text/x-python",
   "name": "python",
   "nbconvert_exporter": "python",
   "pygments_lexer": "ipython3",
   "version": "3.9.2"
  }
 },
 "nbformat": 4,
 "nbformat_minor": 2
}
